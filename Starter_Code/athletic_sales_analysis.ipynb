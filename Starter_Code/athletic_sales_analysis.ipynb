{
 "cells": [
  {
   "cell_type": "code",
   "execution_count": 30,
   "metadata": {},
   "outputs": [],
   "source": [
    "# Import Libraries and Dependencies\n",
    "import pandas as pd\n",
    "#Specifying file path\n",
    "resource_dir = 'Resources/'"
   ]
  },
  {
   "cell_type": "markdown",
   "metadata": {},
   "source": [
    "### 1. Combine and Clean the Data\n",
    "#### Import CSVs"
   ]
  },
  {
   "cell_type": "code",
   "execution_count": 31,
   "metadata": {},
   "outputs": [
    {
     "name": "stderr",
     "output_type": "stream",
     "text": [
      "ERROR:tornado.general:SEND Error: Host unreachable\n"
     ]
    }
   ],
   "source": [
    "# Read the CSV files into DataFrames.\n",
    "df_2020 = pd.read_csv(resource_dir + 'athletic_sales_2020.csv')\n",
    "df_2021 = pd.read_csv(resource_dir + 'athletic_sales_2021.csv')"
   ]
  },
  {
   "cell_type": "code",
   "execution_count": 32,
   "metadata": {},
   "outputs": [
    {
     "name": "stdout",
     "output_type": "stream",
     "text": [
      "      retailer  retailer_id invoice_date     region         state  \\\n",
      "0  Foot Locker      1185732       1/1/20  Northeast      New York   \n",
      "1  Foot Locker      1185732       1/1/20  Northeast  Pennsylvania   \n",
      "2  Foot Locker      1185732       1/1/20  Northeast  Pennsylvania   \n",
      "3  Foot Locker      1185732       1/1/20  Northeast      New York   \n",
      "4  Foot Locker      1185732       1/1/20  Northeast  Pennsylvania   \n",
      "\n",
      "           city                product  price_per_unit  units_sold  \\\n",
      "0      New York  Men's Street Footwear              50        1200   \n",
      "1  Philadelphia        Women's Apparel              68          83   \n",
      "2  Philadelphia        Women's Apparel              75         275   \n",
      "3      New York  Men's Street Footwear              34         384   \n",
      "4  Philadelphia        Women's Apparel              53          83   \n",
      "\n",
      "   total_sales  operating_profit sales_method  \n",
      "0       600000         300000.00     In-store  \n",
      "1         5644           2426.92       Online  \n",
      "2       206250          61875.00       Outlet  \n",
      "3        13056           6789.12       Outlet  \n",
      "4         4399           1407.68       Outlet  \n"
     ]
    }
   ],
   "source": [
    "# Display the 2020 sales DataFrame\n",
    "print(df_2020.head())"
   ]
  },
  {
   "cell_type": "code",
   "execution_count": 33,
   "metadata": {},
   "outputs": [],
   "source": [
    "# Display the 2021 sales DataFrame\n",
    "print(df_2021.head())"
   ]
  },
  {
   "cell_type": "markdown",
   "metadata": {},
   "source": [
    "#### Check the data types of each DataFrame"
   ]
  },
  {
   "cell_type": "code",
   "execution_count": 53,
   "metadata": {},
   "outputs": [
    {
     "name": "stdout",
     "output_type": "stream",
     "text": [
      "retailer             object\n",
      "retailer_id           int64\n",
      "invoice_date         object\n",
      "region               object\n",
      "state                object\n",
      "city                 object\n",
      "product              object\n",
      "price_per_unit        int64\n",
      "units_sold            int64\n",
      "total_sales           int64\n",
      "operating_profit    float64\n",
      "sales_method         object\n",
      "dtype: object\n"
     ]
    }
   ],
   "source": [
    "# Check the 2020 sales data types.\n",
    "print(df_2020.dtypes)"
   ]
  },
  {
   "cell_type": "code",
   "execution_count": 72,
   "metadata": {},
   "outputs": [
    {
     "name": "stdout",
     "output_type": "stream",
     "text": [
      "retailer             object\n",
      "retailer_id           int64\n",
      "invoice_date         object\n",
      "region               object\n",
      "state                object\n",
      "city                 object\n",
      "product              object\n",
      "price_per_unit        int64\n",
      "units_sold            int64\n",
      "total_sales           int64\n",
      "operating_profit    float64\n",
      "sales_method         object\n",
      "dtype: object\n"
     ]
    }
   ],
   "source": [
    "# Check the 2021 sales data types.\n",
    "print(df_2021.dtypes)"
   ]
  },
  {
   "cell_type": "markdown",
   "metadata": {},
   "source": [
    "#### Combine the sales data by rows."
   ]
  },
  {
   "cell_type": "code",
   "execution_count": 172,
   "metadata": {},
   "outputs": [],
   "source": [
    "# Combine the 2020 and 2021 sales DataFrames on the rows and reset the index.\n",
    "#Using inner join\n",
    "df_combined = pd.concat([df_2020, df_2021], ignore_index=True)"
   ]
  },
  {
   "cell_type": "code",
   "execution_count": 176,
   "metadata": {},
   "outputs": [
    {
     "name": "stdout",
     "output_type": "stream",
     "text": [
      "retailer            0\n",
      "retailer_id         0\n",
      "invoice_date        0\n",
      "region              0\n",
      "state               0\n",
      "city                0\n",
      "product             0\n",
      "price_per_unit      0\n",
      "units_sold          0\n",
      "total_sales         0\n",
      "operating_profit    0\n",
      "sales_method        0\n",
      "dtype: int64\n"
     ]
    }
   ],
   "source": [
    "# Check if any values are null.\n",
    "null_values = df_combined.isnull().sum()\n",
    "print(null_values)"
   ]
  },
  {
   "cell_type": "code",
   "execution_count": 179,
   "metadata": {},
   "outputs": [
    {
     "name": "stdout",
     "output_type": "stream",
     "text": [
      "retailer             object\n",
      "retailer_id           int64\n",
      "invoice_date         object\n",
      "region               object\n",
      "state                object\n",
      "city                 object\n",
      "product              object\n",
      "price_per_unit        int64\n",
      "units_sold            int64\n",
      "total_sales           int64\n",
      "operating_profit    float64\n",
      "sales_method         object\n",
      "dtype: object\n"
     ]
    }
   ],
   "source": [
    "# Check the data type of each column\n",
    "print(df_combined.dtypes)"
   ]
  },
  {
   "cell_type": "code",
   "execution_count": 181,
   "metadata": {},
   "outputs": [
    {
     "name": "stderr",
     "output_type": "stream",
     "text": [
      "/var/folders/fx/7k4d70096813w2_tf7kjpzgr0000gn/T/ipykernel_38155/418710622.py:2: UserWarning: Could not infer format, so each element will be parsed individually, falling back to `dateutil`. To ensure parsing is consistent and as-expected, please specify a format.\n",
      "  df_combined['invoice_date'] = pd.to_datetime(df_combined['invoice_date'])\n"
     ]
    }
   ],
   "source": [
    "# Convert the \"invoice_date\" to a datetime datatype\n",
    "df_combined['invoice_date'] = pd.to_datetime(df_combined['invoice_date'])"
   ]
  },
  {
   "cell_type": "code",
   "execution_count": 195,
   "metadata": {},
   "outputs": [
    {
     "name": "stdout",
     "output_type": "stream",
     "text": [
      "retailer                    object\n",
      "retailer_id                  int64\n",
      "invoice_date        datetime64[ns]\n",
      "region                      object\n",
      "state                       object\n",
      "city                        object\n",
      "product                     object\n",
      "price_per_unit               int64\n",
      "units_sold                   int64\n",
      "total_sales                  int64\n",
      "operating_profit           float64\n",
      "sales_method                object\n",
      "dtype: object\n"
     ]
    }
   ],
   "source": [
    "# Confirm that the \"invoice_date\" data type has been changed.\n",
    "print(df_combined.dtypes)"
   ]
  },
  {
   "cell_type": "markdown",
   "metadata": {},
   "source": [
    "### 2. Determine which Region Sold the Most Products"
   ]
  },
  {
   "cell_type": "code",
   "execution_count": 208,
   "metadata": {},
   "outputs": [
    {
     "name": "stdout",
     "output_type": "stream",
     "text": [
      "       region          state          city  num_products_sold\n",
      "13  Northeast    Connecticut      Hartford                216\n",
      "17  Northeast  Massachusetts        Boston                216\n",
      "18  Northeast  New Hampshire    Manchester                216\n",
      "21  Northeast       New York      New York                216\n",
      "22  Northeast   Pennsylvania  Philadelphia                216\n"
     ]
    }
   ],
   "source": [
    "# Show the number products sold for region, state, and city.\n",
    "region_sales = df_combined.groupby(['region', 'state', 'city']).size().reset_index(name='num_products_sold')\n",
    "\n",
    "# Show the top 5 results.\n",
    "top_five_regions = region_sales.nlargest(5, 'num_products_sold')\n",
    "\n",
    "print(top_five_regions)"
   ]
  },
  {
   "cell_type": "markdown",
   "metadata": {},
   "source": [
    "#### Using `pivot_table`"
   ]
  },
  {
   "cell_type": "code",
   "execution_count": 209,
   "metadata": {},
   "outputs": [],
   "source": [
    "# Show the number products sold for region, state, and city.\n",
    "region_sales_pivot = df_combined.pivot_table(index=['region', 'state', 'city'], values='units_sold', aggfunc='sum').reset_index()\n",
    "\n",
    "# Rename the \"units_sold\" column to \"Total_Products_Sold\"\n",
    "region_sales_pivot = region_sales_pivot.rename(columns={'units_sold': 'Total_Products_Sold'})\n",
    "\n",
    "# Show the top 5 results.\n",
    "top_five_regions_pivot = region_sales_pivot.nlargest(5, 'Total_Products_Sold')\n",
    "\n",
    "print(top_five_regions_pivot)"
   ]
  },
  {
   "cell_type": "markdown",
   "metadata": {},
   "source": [
    "### 3. Determine which Region had the Most Sales"
   ]
  },
  {
   "cell_type": "markdown",
   "metadata": {},
   "source": [
    "#### Using `groupby`"
   ]
  },
  {
   "cell_type": "code",
   "execution_count": 220,
   "metadata": {},
   "outputs": [
    {
     "name": "stdout",
     "output_type": "stream",
     "text": [
      "       region       state           city  Total Sales\n",
      "21  Northeast    New York       New York       111954\n",
      "33      South       Texas        Houston        90322\n",
      "44       West  California  San Francisco        85478\n",
      "43       West  California    Los Angeles        76384\n",
      "34  Southeast     Florida          Miami        73135\n"
     ]
    }
   ],
   "source": [
    "# Show the total sales for the products sold for each region, state, and city.\n",
    "# Groupingby region, state, and city, and summing up the units sold\n",
    "region_state_city_sales = df_combined.groupby(['region', 'state', 'city'])['units_sold'].sum().reset_index()\n",
    "\n",
    "# Renaming the \"units_sold\" column to \"Total Sales\"\n",
    "region_state_city_sales = region_state_city_sales.rename(columns={'units_sold': 'Total Sales'})\n",
    "\n",
    "\n",
    "# Show the top 5 results.\n",
    "top_five_sales = region_state_city_sales.nlargest(5, 'Total Sales')\n",
    "print(top_five_sales)"
   ]
  },
  {
   "cell_type": "markdown",
   "metadata": {},
   "source": [
    "#### Using `pivot_table`"
   ]
  },
  {
   "cell_type": "code",
   "execution_count": 231,
   "metadata": {},
   "outputs": [
    {
     "name": "stdout",
     "output_type": "stream",
     "text": [
      "                                    Total Sales\n",
      "region    state      city                      \n",
      "Northeast New York   New York            111954\n",
      "South     Texas      Houston              90322\n",
      "West      California San Francisco        85478\n",
      "                     Los Angeles          76384\n",
      "Southeast Florida    Miami                73135\n"
     ]
    }
   ],
   "source": [
    "# Show the total sales for the products sold for each region, state, and city.\n",
    "region_state_city_sales = df_combined.pivot_table(index=['region', 'state', 'city'], values='units_sold', aggfunc='sum')\n",
    "\n",
    "# Optional: Rename the \"total_sales\" column to \"Total Sales\"\n",
    "region_state_city_sales = region_state_city_sales.rename(columns={'units_sold': 'Total Sales'})\n",
    "\n",
    "# Show the top 5 results.\n",
    "top_five_sales = region_state_city_sales.nlargest(5, 'Total Sales')  # Specify the column here!\n",
    "\n",
    "print(top_five_sales)"
   ]
  },
  {
   "cell_type": "markdown",
   "metadata": {},
   "source": [
    "### 4. Determine which Retailer had the Most Sales"
   ]
  },
  {
   "cell_type": "markdown",
   "metadata": {},
   "source": [
    "#### Using `groupby`"
   ]
  },
  {
   "cell_type": "code",
   "execution_count": 240,
   "metadata": {},
   "outputs": [
    {
     "name": "stdout",
     "output_type": "stream",
     "text": [
      "        retailer  Total Sales\n",
      "5      West Gear       623840\n",
      "1    Foot Locker       604369\n",
      "3  Sports Direct       557640\n",
      "2         Kohl's       286952\n",
      "4        Walmart       206225\n"
     ]
    }
   ],
   "source": [
    "# Show the total sales for the products sold for each retailer, region, state, and city.\n",
    "# Rename the \"total_sales\" column to \"Total Sales\"\n",
    "retailer_sales = df_combined.groupby('retailer')['units_sold'].sum().reset_index()\n",
    "retailer_sales = retailer_sales.rename(columns={'units_sold': 'Total Sales'})\n",
    "# Show the top 5 results.\n",
    "top_five_retailers = retailer_sales.nlargest(5, 'Total Sales')\n",
    "\n",
    "print(top_five_retailers)"
   ]
  },
  {
   "cell_type": "markdown",
   "metadata": {},
   "source": [
    "#### Using `pivot_table`"
   ]
  },
  {
   "cell_type": "code",
   "execution_count": 248,
   "metadata": {},
   "outputs": [
    {
     "name": "stdout",
     "output_type": "stream",
     "text": [
      "          retailer     region       state           city  Total Sales\n",
      "103      West Gear       West  California  San Francisco        81233\n",
      "50          Kohl's       West  California    Los Angeles        74543\n",
      "22     Foot Locker  Northeast    New York       New York        72196\n",
      "69   Sports Direct      South       Texas         Dallas        67683\n",
      "83         Walmart      South       Texas        Houston        65072\n"
     ]
    }
   ],
   "source": [
    "# Show the total sales for the products sold for each retailer, region, state, and city.\n",
    "retailer_region_state_city_sales = df_combined.groupby(['retailer', 'region', 'state', 'city'])['units_sold'].sum().reset_index()\n",
    "\n",
    "# Optional: Rename the \"total_sales\" column to \"Total Sales\"\n",
    "retailer_region_state_city_sales = retailer_region_state_city_sales.rename(columns={'units_sold': 'Total Sales'})\n",
    "\n",
    "# Show the top 5 results.\n",
    "top_five_sales = retailer_region_state_city_sales.nlargest(5, 'Total Sales')\n",
    "\n",
    "print(top_five_sales)"
   ]
  },
  {
   "cell_type": "markdown",
   "metadata": {},
   "source": [
    "### 5. Determine which Retailer Sold the Most Women's Athletic Footwear"
   ]
  },
  {
   "cell_type": "code",
   "execution_count": 266,
   "metadata": {},
   "outputs": [],
   "source": [
    "# Filter the sales data to get the women's athletic footwear sales data.\n",
    "womens_athletic_footwear_sales = df_combined[df_combined[\"product\"].str.contains(\"women|Women|WOMEN|female|Female|FEMALE|lady|Lady|LADY|girl|Girl|GIRL|athletic|Athletic|ATHLETIC|shoe|Shoe|SHOE|footwear|Footwear|FOOTWEAR\")]"
   ]
  },
  {
   "cell_type": "markdown",
   "metadata": {},
   "source": [
    "#### Using `groupby`"
   ]
  },
  {
   "cell_type": "code",
   "execution_count": 272,
   "metadata": {},
   "outputs": [
    {
     "name": "stdout",
     "output_type": "stream",
     "text": [
      "          retailer     region       state           city  \\\n",
      "103      West Gear       West  California  San Francisco   \n",
      "50          Kohl's       West  California    Los Angeles   \n",
      "22     Foot Locker  Northeast    New York       New York   \n",
      "69   Sports Direct      South       Texas         Dallas   \n",
      "83         Walmart      South       Texas        Houston   \n",
      "\n",
      "     Womens_Footwear_Units_Sold  \n",
      "103                       81233  \n",
      "50                        74543  \n",
      "22                        72196  \n",
      "69                        67683  \n",
      "83                        65072  \n"
     ]
    }
   ],
   "source": [
    "# Show the total number of women's athletic footwear sold for each retailer, region, state, and city.\n",
    "womens_footwear_sales_by_retailer = df_combined.groupby(['retailer', 'region', 'state', 'city'])['units_sold'].sum().reset_index()\n",
    "# Rename the \"units_sold\" column to \"Womens_Footwear_Units_Sold\"\n",
    "womens_footwear_sales_by_retailer = womens_footwear_sales_by_retailer.rename(columns={'units_sold': 'Womens_Footwear_Units_Sold'})\n",
    "\n",
    "# Show the top 5 results.\n",
    "top_5_retailers = womens_footwear_sales_by_retailer.nlargest(5, 'Womens_Footwear_Units_Sold')\n",
    "print(top_5_retailers)"
   ]
  },
  {
   "cell_type": "markdown",
   "metadata": {},
   "source": [
    "#### Using `pivot_table`"
   ]
  },
  {
   "cell_type": "code",
   "execution_count": 277,
   "metadata": {},
   "outputs": [
    {
     "name": "stdout",
     "output_type": "stream",
     "text": [
      "          retailer     region       state           city  \\\n",
      "103      West Gear       West  California  San Francisco   \n",
      "50          Kohl's       West  California    Los Angeles   \n",
      "22     Foot Locker  Northeast    New York       New York   \n",
      "69   Sports Direct      South       Texas         Dallas   \n",
      "83         Walmart      South       Texas        Houston   \n",
      "\n",
      "     Womens_Footwear_Units_Sold  \n",
      "103                       81233  \n",
      "50                        74543  \n",
      "22                        72196  \n",
      "69                        67683  \n",
      "83                        65072  \n"
     ]
    }
   ],
   "source": [
    "# Show the total number of women's athletic footwear sold for each retailer, region, state, and city.\n",
    "womens_footwear_sales_pivot = df_combined.pivot_table(index=['retailer', 'region', 'state', 'city'], values='units_sold', aggfunc='sum').reset_index()\n",
    "\n",
    "# Rename the \"units_sold\" column to \"Womens_Footwear_Units_Sold\"\n",
    "womens_footwear_sales_pivot = womens_footwear_sales_pivot.rename(columns={'units_sold': 'Womens_Footwear_Units_Sold'})\n",
    "\n",
    "# Show the top 5 results.\n",
    "top_5_retailers_pivot = womens_footwear_sales_pivot.nlargest(5, 'Womens_Footwear_Units_Sold')\n",
    "print(top_5_retailers_pivot)"
   ]
  },
  {
   "cell_type": "markdown",
   "metadata": {},
   "source": [
    "### 6. Determine the Day with the Most Women's Athletic Footwear Sales"
   ]
  },
  {
   "cell_type": "code",
   "execution_count": 281,
   "metadata": {},
   "outputs": [
    {
     "name": "stdout",
     "output_type": "stream",
     "text": [
      "    invoice_date  Total Sales\n",
      "0     2020-01-01         2361\n",
      "1     2020-01-02         2310\n",
      "2     2020-01-03         2302\n",
      "3     2020-01-04         2085\n",
      "4     2020-01-05         1917\n",
      "..           ...          ...\n",
      "718   2021-12-27         1314\n",
      "719   2021-12-28          749\n",
      "720   2021-12-29          557\n",
      "721   2021-12-30          442\n",
      "722   2021-12-31          439\n",
      "\n",
      "[723 rows x 2 columns]\n"
     ]
    }
   ],
   "source": [
    "# Create a pivot table with the 'invoice_date' column is the index, and the \"total_sales\" as the values.\n",
    "daily_sales_pivot = df_combined.pivot_table(index='invoice_date', values='units_sold', aggfunc='sum').reset_index()\n",
    "\n",
    "# Optional: Rename the \"total_sales\" column to \"Total Sales\"\n",
    "daily_sales_pivot = daily_sales_pivot.rename(columns={'units_sold': 'Total Sales'})\n",
    "\n",
    "# Show the table.\n",
    "print(daily_sales_pivot)"
   ]
  },
  {
   "cell_type": "code",
   "execution_count": 286,
   "metadata": {},
   "outputs": [
    {
     "name": "stdout",
     "output_type": "stream",
     "text": [
      "    invoice_date  Total Sales\n",
      "562   2021-07-16        22857\n",
      "715   2021-12-16        21770\n",
      "594   2021-08-17        21285\n",
      "533   2021-06-17        20768\n",
      "686   2021-11-17        19126\n",
      "..           ...          ...\n",
      "285   2020-10-12            0\n",
      "286   2020-10-13            0\n",
      "288   2020-10-15            0\n",
      "289   2020-10-16            0\n",
      "365   2020-12-31            0\n",
      "\n",
      "[731 rows x 2 columns]\n"
     ]
    }
   ],
   "source": [
    "# Resample the pivot table into daily bins, and get the total sales for each day.\n",
    "daily_sales_resampled = df_combined.resample('D', on='invoice_date')['units_sold'].sum().reset_index()\n",
    "\n",
    "# Rename the \"units_sold\" column to \"Total Sales\"\n",
    "daily_sales_resampled = daily_sales_resampled.rename(columns={'units_sold': 'Total Sales'})\n",
    "# Sort the resampled pivot table in descending order on \"Total Sales\"\n",
    "daily_sales_resampled = daily_sales_resampled.sort_values(by='Total Sales', ascending=False)\n",
    "# Sort the resampled pivot table in descending order on \"Total Sales\".\n",
    "print(daily_sales_resampled)"
   ]
  },
  {
   "cell_type": "markdown",
   "metadata": {},
   "source": [
    "### 7.  Determine the Week with the Most Women's Athletic Footwear Sales"
   ]
  },
  {
   "cell_type": "code",
   "execution_count": 287,
   "metadata": {},
   "outputs": [
    {
     "name": "stdout",
     "output_type": "stream",
     "text": [
      "   invoice_date  Total Sales\n",
      "79   2021-07-11        62934\n",
      "85   2021-08-22        59292\n",
      "84   2021-08-15        58071\n",
      "89   2021-09-19        58025\n",
      "54   2021-01-17        56878\n",
      "..          ...          ...\n",
      "46   2020-11-22         2483\n",
      "48   2020-12-06         2197\n",
      "50   2020-12-20         1584\n",
      "49   2020-12-13         1519\n",
      "41   2020-10-18          896\n",
      "\n",
      "[105 rows x 2 columns]\n"
     ]
    }
   ],
   "source": [
    "# Resample the pivot table into weekly bins, and get the total sales for each week.\n",
    "weekly_sales_resampled = daily_sales_pivot.resample('W', on='invoice_date')['Total Sales'].sum().reset_index()\n",
    "\n",
    "# Sort the resampled pivot table in descending order on \"Total Sales\".\n",
    "weekly_sales_resampled = weekly_sales_resampled.sort_values(by='Total Sales', ascending=False)\n",
    "# Show the table\n",
    "print(weekly_sales_resampled)"
   ]
  },
  {
   "cell_type": "code",
   "execution_count": null,
   "metadata": {},
   "outputs": [],
   "source": []
  }
 ],
 "metadata": {
  "kernelspec": {
   "display_name": "Python 3 (ipykernel)",
   "language": "python",
   "name": "python3"
  },
  "language_info": {
   "codemirror_mode": {
    "name": "ipython",
    "version": 3
   },
   "file_extension": ".py",
   "mimetype": "text/x-python",
   "name": "python",
   "nbconvert_exporter": "python",
   "pygments_lexer": "ipython3",
   "version": "3.10.14"
  }
 },
 "nbformat": 4,
 "nbformat_minor": 4
}
